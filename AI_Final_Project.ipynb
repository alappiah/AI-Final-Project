{
  "cells": [
    {
      "cell_type": "code",
      "source": [
        "from google.colab import drive\n",
        "drive.mount('/content/drive')"
      ],
      "metadata": {
        "colab": {
          "base_uri": "https://localhost:8080/"
        },
        "id": "EsO-Qg3HJYeF",
        "outputId": "9c7189ca-b46e-4924-e8d3-45b4ade58897"
      },
      "execution_count": 78,
      "outputs": [
        {
          "output_type": "stream",
          "name": "stdout",
          "text": [
            "Drive already mounted at /content/drive; to attempt to forcibly remount, call drive.mount(\"/content/drive\", force_remount=True).\n"
          ]
        }
      ]
    },
    {
      "cell_type": "code",
      "execution_count": 118,
      "metadata": {
        "id": "FLGUE97BFnen"
      },
      "outputs": [],
      "source": [
        "import pandas as pd\n",
        "import requests\n",
        "from sklearn.impute import SimpleImputer\n",
        "from sklearn.preprocessing import StandardScaler, OrdinalEncoder\n",
        "from sklearn.ensemble import RandomForestRegressor, GradientBoostingRegressor\n",
        "from sklearn.metrics import mean_absolute_error, mean_squared_error, r2_score\n",
        "from sklearn.model_selection import train_test_split\n",
        "import numpy as np\n",
        "import xgboost as xgb\n",
        "from sklearn.model_selection import cross_val_score, KFold\n",
        "from sklearn.model_selection import GridSearchCV\n",
        "import pickle\n",
        "from tensorflow.keras.models import Sequential\n",
        "from tensorflow.keras.layers import Dense\n",
        "import matplotlib.pyplot as plt"
      ]
    },
    {
      "cell_type": "code",
      "execution_count": 80,
      "metadata": {
        "id": "pPPhqrnJieVP"
      },
      "outputs": [],
      "source": [
        "# Fetching player and team data\n",
        "fpl_url = 'https://fantasy.premierleague.com/api/bootstrap-static/'\n",
        "response = requests.get(fpl_url)\n",
        "data = response.json()\n",
        "\n",
        "players_df = pd.DataFrame(data['elements'])\n",
        "teams_df = pd.DataFrame(data['teams'])"
      ]
    },
    {
      "cell_type": "code",
      "source": [
        "# Fetching fixture data\n",
        "fixtures_response = requests.get('https://fantasy.premierleague.com/api/fixtures/')\n",
        "fixtures_data = fixtures_response.json()\n",
        "\n",
        "# Convert fixtures data to DataFrame\n",
        "fixtures_df = pd.DataFrame(fixtures_data)\n",
        "fixtures_df.columns\n"
      ],
      "metadata": {
        "colab": {
          "base_uri": "https://localhost:8080/"
        },
        "id": "TVLPjDxTEmr2",
        "outputId": "7d109a12-bbac-45ff-ba17-aef52d0038ff"
      },
      "execution_count": 81,
      "outputs": [
        {
          "output_type": "execute_result",
          "data": {
            "text/plain": [
              "Index(['code', 'event', 'finished', 'finished_provisional', 'id',\n",
              "       'kickoff_time', 'minutes', 'provisional_start_time', 'started',\n",
              "       'team_a', 'team_a_score', 'team_h', 'team_h_score', 'stats',\n",
              "       'team_h_difficulty', 'team_a_difficulty', 'pulse_id'],\n",
              "      dtype='object')"
            ]
          },
          "metadata": {},
          "execution_count": 81
        }
      ]
    },
    {
      "cell_type": "code",
      "source": [
        "player_team_fixture = pd.concat([players_df, teams_df,fixtures_df], axis=1)\n",
        "#Removes duplicated comments\n",
        "player_team_fixture = player_team_fixture.loc[:,~player_team_fixture.columns.duplicated()].copy()"
      ],
      "metadata": {
        "id": "mzosgqOaEo95"
      },
      "execution_count": 82,
      "outputs": []
    },
    {
      "cell_type": "code",
      "source": [
        "team_id_to_name = teams_df.set_index('id')['name'].to_dict()\n",
        "player_team_fixture['Home_team_name'] = player_team_fixture['team_h'].map(team_id_to_name)\n",
        "player_team_fixture['Away_team_name'] = player_team_fixture['team_a'].map(team_id_to_name)"
      ],
      "metadata": {
        "id": "YguHQTR0rmCH"
      },
      "execution_count": 84,
      "outputs": []
    },
    {
      "cell_type": "code",
      "execution_count": 85,
      "metadata": {
        "id": "15h105TnkqVD"
      },
      "outputs": [],
      "source": [
        "#Dropped columns with na's above a certain threshold\n",
        "threshold = int(0.5 * 100)\n",
        "df_elements = player_team_fixture.dropna(thresh = threshold, axis = 1)"
      ]
    },
    {
      "cell_type": "code",
      "execution_count": 86,
      "metadata": {
        "id": "Jja6SsuLifX-"
      },
      "outputs": [],
      "source": [
        "#Dropping unecessary columns\n",
        "player_team_fixture = player_team_fixture.drop(['first_name', 'second_name', 'photo', 'news', 'web_name', 'stats','points_per_game'], axis = 1)"
      ]
    },
    {
      "cell_type": "code",
      "execution_count": 87,
      "metadata": {
        "id": "46cSnAQDEmfE"
      },
      "outputs": [],
      "source": [
        "#Gets the numeric data and imputes the empty rows\n",
        "numeric_data = player_team_fixture.select_dtypes(include=['int64', 'float64'])\n",
        "numeric_data_imputer = SimpleImputer(strategy='mean')\n",
        "numeric_data_filled = numeric_data_imputer.fit_transform(numeric_data)\n",
        "numeric_data_df = pd.DataFrame(numeric_data_filled, columns=numeric_data.columns)"
      ]
    },
    {
      "cell_type": "code",
      "execution_count": 88,
      "metadata": {
        "id": "og7s_VhLGDxa"
      },
      "outputs": [],
      "source": [
        "#Gets the categorical data, imputes the data and encodes the data\n",
        "categorical_data = player_team_fixture.select_dtypes(include=['object'])\n",
        "categorical_data_imputer = SimpleImputer(strategy='most_frequent')\n",
        "categorical_data_filled = categorical_data_imputer.fit_transform(categorical_data)\n",
        "encoder = OrdinalEncoder()\n",
        "categorical_data_encoded = encoder.fit_transform(categorical_data_filled)\n",
        "categorical_data_df = pd.DataFrame(categorical_data_encoded, columns=categorical_data.columns)"
      ]
    },
    {
      "cell_type": "code",
      "source": [
        "player_team_fixture = pd.concat([numeric_data_df, categorical_data_df], axis=1)"
      ],
      "metadata": {
        "id": "OwtiYMqJF8rO"
      },
      "execution_count": 89,
      "outputs": []
    },
    {
      "cell_type": "code",
      "execution_count": 90,
      "metadata": {
        "id": "Xg8Um4BRI5It"
      },
      "outputs": [],
      "source": [
        "corr_matrix = player_team_fixture.corr()"
      ]
    },
    {
      "cell_type": "code",
      "execution_count": 91,
      "metadata": {
        "colab": {
          "base_uri": "https://localhost:8080/"
        },
        "id": "eP9w2bnLKcuS",
        "outputId": "e99cdcb2-ceea-42e2-9120-c4853789a508"
      },
      "outputs": [
        {
          "output_type": "execute_result",
          "data": {
            "text/plain": [
              "total_points                  1.000000\n",
              "bps                           0.942250\n",
              "minutes                       0.903948\n",
              "starts                        0.900814\n",
              "bonus                         0.889762\n",
              "clean_sheets                  0.866748\n",
              "expected_assists              0.803684\n",
              "goals_conceded                0.789913\n",
              "goals_scored                  0.771917\n",
              "assists                       0.760461\n",
              "expected_goals                0.730301\n",
              "starts_per_90                 0.680605\n",
              "now_cost                      0.678274\n",
              "expected_goal_involvements    0.672585\n",
              "expected_goals_conceded       0.651343\n",
              "clean_sheets_per_90           0.632075\n",
              "influence                     0.622774\n",
              "yellow_cards                  0.622422\n",
              "ep_next                       0.585956\n",
              "selected_by_percent           0.552435\n",
              "creativity                    0.535390\n",
              "form_rank                     0.527811\n",
              "form_rank_type                0.500675\n",
              "now_cost_rank_type           -0.522533\n",
              "selected_rank                -0.568614\n",
              "now_cost_rank                -0.627075\n",
              "threat_rank_type             -0.635130\n",
              "creativity_rank_type         -0.649065\n",
              "points_per_game_rank_type    -0.667771\n",
              "influence_rank_type          -0.695166\n",
              "ict_index_rank_type          -0.700256\n",
              "threat_rank                  -0.758172\n",
              "creativity_rank              -0.784384\n",
              "points_per_game_rank         -0.859794\n",
              "influence_rank               -0.890500\n",
              "ict_index_rank               -0.896487\n",
              "Name: total_points, dtype: float64"
            ]
          },
          "metadata": {},
          "execution_count": 91
        }
      ],
      "source": [
        "correlations = corr_matrix['total_points'].loc[corr_matrix['total_points'].abs() > 0.5].sort_values(ascending=False)\n",
        "correlations"
      ]
    },
    {
      "cell_type": "code",
      "execution_count": 92,
      "metadata": {
        "id": "c00rMdOVJAb6"
      },
      "outputs": [],
      "source": [
        "features = player_team_fixture[['bps','minutes', 'assists', 'goals_conceded', 'goals_scored']]"
      ]
    },
    {
      "cell_type": "code",
      "execution_count": 93,
      "metadata": {
        "id": "DkCfpgvRVJFJ"
      },
      "outputs": [],
      "source": [
        "x = features\n",
        "scaler = StandardScaler()\n",
        "x = scaler.fit_transform(x)\n",
        "y = player_team_fixture['total_points']"
      ]
    },
    {
      "cell_type": "code",
      "execution_count": 94,
      "metadata": {
        "id": "gIqwWhmeVlm5"
      },
      "outputs": [],
      "source": [
        "#random_state = Means we want to randomize the data\n",
        "Xtrain,Xtest,Ytrain,Ytest = train_test_split(x,y,test_size=0.2, random_state=42)"
      ]
    },
    {
      "cell_type": "code",
      "execution_count": 95,
      "metadata": {
        "id": "MCxhMGr-Wj-Q",
        "colab": {
          "base_uri": "https://localhost:8080/"
        },
        "outputId": "706c4181-222a-4200-f412-341b03d71a2d"
      },
      "outputs": [
        {
          "output_type": "stream",
          "name": "stdout",
          "text": [
            "\n",
            "Mean Absolute Error = 4.717036723163843,\n",
            "Mean Squared Error = 57.81090836487759,\n",
            "Root Mean Squared Error = 7.603348496871466,\n",
            "R2 Score = 0.9766947020176094\n",
            "          \n"
          ]
        }
      ],
      "source": [
        "rf_model = RandomForestRegressor()\n",
        "rf_model.fit(Xtrain,Ytrain)\n",
        "y_pred = rf_model.predict(Xtest)\n",
        "print(f\"\"\"\n",
        "Mean Absolute Error = {mean_absolute_error(y_pred,Ytest)},\n",
        "Mean Squared Error = {mean_squared_error(y_pred,Ytest)},\n",
        "Root Mean Squared Error = {np.sqrt(mean_squared_error(y_pred,Ytest))},\n",
        "R2 Score = {r2_score(y_pred, Ytest)}\n",
        "          \"\"\")"
      ]
    },
    {
      "cell_type": "code",
      "execution_count": 96,
      "metadata": {
        "id": "JMw6OUZEND82",
        "colab": {
          "base_uri": "https://localhost:8080/"
        },
        "outputId": "0a21be04-20aa-4588-df15-18965b90d074"
      },
      "outputs": [
        {
          "output_type": "stream",
          "name": "stdout",
          "text": [
            "\n",
            "Mean Absolute Error = 4.54781523763431,\n",
            "Mean Squared Error = 57.72959056678427,\n",
            "Root Mean Squared Error = 7.597999116003125,\n",
            "R2 Score = 0.9777500658956382\n",
            "          \n"
          ]
        }
      ],
      "source": [
        "# xgb regressor to train model\n",
        "xgb_model = xgb.XGBRegressor()\n",
        "xgb_model.fit(Xtrain, Ytrain)\n",
        "y_pred = xgb_model.predict(Xtest)\n",
        "print(f\"\"\"\n",
        "Mean Absolute Error = {mean_absolute_error(y_pred,Ytest)},\n",
        "Mean Squared Error = {mean_squared_error(y_pred,Ytest)},\n",
        "Root Mean Squared Error = {np.sqrt(mean_squared_error(y_pred,Ytest))},\n",
        "R2 Score = {r2_score(y_pred, Ytest)}\n",
        "          \"\"\")"
      ]
    },
    {
      "cell_type": "code",
      "source": [
        "gdr_model = GradientBoostingRegressor()\n",
        "gdr_model.fit(Xtrain,Ytrain)\n",
        "y_pred = gdr_model.predict(Xtest)\n",
        "print(f\"\"\"\n",
        "Mean Absolute Error = {mean_absolute_error(y_pred,Ytest)},\n",
        "Mean Squared Error = {mean_squared_error(y_pred,Ytest)},\n",
        "Root Mean Squared Error = {np.sqrt(mean_squared_error(y_pred,Ytest))},\n",
        "R2 Score = {r2_score(y_pred, Ytest)}\n",
        "          \"\"\")"
      ],
      "metadata": {
        "colab": {
          "base_uri": "https://localhost:8080/"
        },
        "id": "8hc3gHU_G0Xr",
        "outputId": "efaae84f-4995-45ed-a5ce-1de80349fd89"
      },
      "execution_count": 97,
      "outputs": [
        {
          "output_type": "stream",
          "name": "stdout",
          "text": [
            "\n",
            "Mean Absolute Error = 4.765151836772058,\n",
            "Mean Squared Error = 52.87263563328587,\n",
            "Root Mean Squared Error = 7.2713572071028025,\n",
            "R2 Score = 0.9794666381634693\n",
            "          \n"
          ]
        }
      ]
    },
    {
      "cell_type": "code",
      "source": [
        "# Define the model\n",
        "model = Sequential([\n",
        "    Dense(64, input_dim=Xtrain.shape[1], activation='relu'),\n",
        "    Dense(32, activation='relu'),\n",
        "    Dense(1)  # Output layer for regression\n",
        "])\n",
        "\n",
        "# Compile the model\n",
        "model.compile(optimizer='adam', loss='mean_squared_error')\n",
        "\n",
        "# Train the model\n",
        "model.fit(Xtrain, Ytrain, epochs=50, batch_size=32, validation_split=0.2)\n",
        "\n",
        "# Evaluate the model\n",
        "loss = model.evaluate(Xtest, Ytest)\n",
        "print(f'Test Loss: {loss:.4f}')"
      ],
      "metadata": {
        "colab": {
          "base_uri": "https://localhost:8080/"
        },
        "id": "bOZ2pk4GXV6g",
        "outputId": "c747e153-731d-417f-cb90-81b4b563dd08"
      },
      "execution_count": 98,
      "outputs": [
        {
          "output_type": "stream",
          "name": "stderr",
          "text": [
            "/usr/local/lib/python3.10/dist-packages/keras/src/layers/core/dense.py:87: UserWarning: Do not pass an `input_shape`/`input_dim` argument to a layer. When using Sequential models, prefer using an `Input(shape)` object as the first layer in the model instead.\n",
            "  super().__init__(activity_regularizer=activity_regularizer, **kwargs)\n"
          ]
        },
        {
          "output_type": "stream",
          "name": "stdout",
          "text": [
            "Epoch 1/50\n",
            "\u001b[1m12/12\u001b[0m \u001b[32m━━━━━━━━━━━━━━━━━━━━\u001b[0m\u001b[37m\u001b[0m \u001b[1m3s\u001b[0m 55ms/step - loss: 5018.5142 - val_loss: 3685.9341\n",
            "Epoch 2/50\n",
            "\u001b[1m12/12\u001b[0m \u001b[32m━━━━━━━━━━━━━━━━━━━━\u001b[0m\u001b[37m\u001b[0m \u001b[1m1s\u001b[0m 18ms/step - loss: 4744.0171 - val_loss: 3609.4456\n",
            "Epoch 3/50\n",
            "\u001b[1m12/12\u001b[0m \u001b[32m━━━━━━━━━━━━━━━━━━━━\u001b[0m\u001b[37m\u001b[0m \u001b[1m0s\u001b[0m 8ms/step - loss: 4886.5176 - val_loss: 3509.3857\n",
            "Epoch 4/50\n",
            "\u001b[1m12/12\u001b[0m \u001b[32m━━━━━━━━━━━━━━━━━━━━\u001b[0m\u001b[37m\u001b[0m \u001b[1m0s\u001b[0m 8ms/step - loss: 4652.3418 - val_loss: 3368.9961\n",
            "Epoch 5/50\n",
            "\u001b[1m12/12\u001b[0m \u001b[32m━━━━━━━━━━━━━━━━━━━━\u001b[0m\u001b[37m\u001b[0m \u001b[1m0s\u001b[0m 7ms/step - loss: 4627.2051 - val_loss: 3173.4229\n",
            "Epoch 6/50\n",
            "\u001b[1m12/12\u001b[0m \u001b[32m━━━━━━━━━━━━━━━━━━━━\u001b[0m\u001b[37m\u001b[0m \u001b[1m0s\u001b[0m 12ms/step - loss: 4219.7451 - val_loss: 2914.6543\n",
            "Epoch 7/50\n",
            "\u001b[1m12/12\u001b[0m \u001b[32m━━━━━━━━━━━━━━━━━━━━\u001b[0m\u001b[37m\u001b[0m \u001b[1m0s\u001b[0m 16ms/step - loss: 3781.7610 - val_loss: 2586.7617\n",
            "Epoch 8/50\n",
            "\u001b[1m12/12\u001b[0m \u001b[32m━━━━━━━━━━━━━━━━━━━━\u001b[0m\u001b[37m\u001b[0m \u001b[1m0s\u001b[0m 20ms/step - loss: 3276.8689 - val_loss: 2194.4299\n",
            "Epoch 9/50\n",
            "\u001b[1m12/12\u001b[0m \u001b[32m━━━━━━━━━━━━━━━━━━━━\u001b[0m\u001b[37m\u001b[0m \u001b[1m0s\u001b[0m 13ms/step - loss: 2558.3479 - val_loss: 1746.7356\n",
            "Epoch 10/50\n",
            "\u001b[1m12/12\u001b[0m \u001b[32m━━━━━━━━━━━━━━━━━━━━\u001b[0m\u001b[37m\u001b[0m \u001b[1m0s\u001b[0m 14ms/step - loss: 2005.5143 - val_loss: 1279.0588\n",
            "Epoch 11/50\n",
            "\u001b[1m12/12\u001b[0m \u001b[32m━━━━━━━━━━━━━━━━━━━━\u001b[0m\u001b[37m\u001b[0m \u001b[1m0s\u001b[0m 9ms/step - loss: 1341.4937 - val_loss: 871.1179\n",
            "Epoch 12/50\n",
            "\u001b[1m12/12\u001b[0m \u001b[32m━━━━━━━━━━━━━━━━━━━━\u001b[0m\u001b[37m\u001b[0m \u001b[1m0s\u001b[0m 10ms/step - loss: 819.8696 - val_loss: 569.2538\n",
            "Epoch 13/50\n",
            "\u001b[1m12/12\u001b[0m \u001b[32m━━━━━━━━━━━━━━━━━━━━\u001b[0m\u001b[37m\u001b[0m \u001b[1m0s\u001b[0m 11ms/step - loss: 514.1390 - val_loss: 407.0368\n",
            "Epoch 14/50\n",
            "\u001b[1m12/12\u001b[0m \u001b[32m━━━━━━━━━━━━━━━━━━━━\u001b[0m\u001b[37m\u001b[0m \u001b[1m0s\u001b[0m 14ms/step - loss: 355.1479 - val_loss: 351.7742\n",
            "Epoch 15/50\n",
            "\u001b[1m12/12\u001b[0m \u001b[32m━━━━━━━━━━━━━━━━━━━━\u001b[0m\u001b[37m\u001b[0m \u001b[1m0s\u001b[0m 11ms/step - loss: 305.9305 - val_loss: 333.4685\n",
            "Epoch 16/50\n",
            "\u001b[1m12/12\u001b[0m \u001b[32m━━━━━━━━━━━━━━━━━━━━\u001b[0m\u001b[37m\u001b[0m \u001b[1m0s\u001b[0m 6ms/step - loss: 279.1183 - val_loss: 321.9865\n",
            "Epoch 17/50\n",
            "\u001b[1m12/12\u001b[0m \u001b[32m━━━━━━━━━━━━━━━━━━━━\u001b[0m\u001b[37m\u001b[0m \u001b[1m0s\u001b[0m 11ms/step - loss: 240.3481 - val_loss: 312.8351\n",
            "Epoch 18/50\n",
            "\u001b[1m12/12\u001b[0m \u001b[32m━━━━━━━━━━━━━━━━━━━━\u001b[0m\u001b[37m\u001b[0m \u001b[1m0s\u001b[0m 22ms/step - loss: 226.2629 - val_loss: 302.9242\n",
            "Epoch 19/50\n",
            "\u001b[1m12/12\u001b[0m \u001b[32m━━━━━━━━━━━━━━━━━━━━\u001b[0m\u001b[37m\u001b[0m \u001b[1m1s\u001b[0m 20ms/step - loss: 255.5864 - val_loss: 291.1013\n",
            "Epoch 20/50\n",
            "\u001b[1m12/12\u001b[0m \u001b[32m━━━━━━━━━━━━━━━━━━━━\u001b[0m\u001b[37m\u001b[0m \u001b[1m1s\u001b[0m 24ms/step - loss: 237.2452 - val_loss: 279.6988\n",
            "Epoch 21/50\n",
            "\u001b[1m12/12\u001b[0m \u001b[32m━━━━━━━━━━━━━━━━━━━━\u001b[0m\u001b[37m\u001b[0m \u001b[1m1s\u001b[0m 22ms/step - loss: 245.4914 - val_loss: 268.8955\n",
            "Epoch 22/50\n",
            "\u001b[1m12/12\u001b[0m \u001b[32m━━━━━━━━━━━━━━━━━━━━\u001b[0m\u001b[37m\u001b[0m \u001b[1m0s\u001b[0m 7ms/step - loss: 235.7428 - val_loss: 257.2698\n",
            "Epoch 23/50\n",
            "\u001b[1m12/12\u001b[0m \u001b[32m━━━━━━━━━━━━━━━━━━━━\u001b[0m\u001b[37m\u001b[0m \u001b[1m0s\u001b[0m 13ms/step - loss: 224.9141 - val_loss: 246.8816\n",
            "Epoch 24/50\n",
            "\u001b[1m12/12\u001b[0m \u001b[32m━━━━━━━━━━━━━━━━━━━━\u001b[0m\u001b[37m\u001b[0m \u001b[1m0s\u001b[0m 12ms/step - loss: 227.0810 - val_loss: 237.5841\n",
            "Epoch 25/50\n",
            "\u001b[1m12/12\u001b[0m \u001b[32m━━━━━━━━━━━━━━━━━━━━\u001b[0m\u001b[37m\u001b[0m \u001b[1m0s\u001b[0m 24ms/step - loss: 189.3824 - val_loss: 226.3329\n",
            "Epoch 26/50\n",
            "\u001b[1m12/12\u001b[0m \u001b[32m━━━━━━━━━━━━━━━━━━━━\u001b[0m\u001b[37m\u001b[0m \u001b[1m1s\u001b[0m 21ms/step - loss: 196.9153 - val_loss: 215.9141\n",
            "Epoch 27/50\n",
            "\u001b[1m12/12\u001b[0m \u001b[32m━━━━━━━━━━━━━━━━━━━━\u001b[0m\u001b[37m\u001b[0m \u001b[1m1s\u001b[0m 19ms/step - loss: 196.0992 - val_loss: 206.6642\n",
            "Epoch 28/50\n",
            "\u001b[1m12/12\u001b[0m \u001b[32m━━━━━━━━━━━━━━━━━━━━\u001b[0m\u001b[37m\u001b[0m \u001b[1m0s\u001b[0m 23ms/step - loss: 204.3421 - val_loss: 196.3557\n",
            "Epoch 29/50\n",
            "\u001b[1m12/12\u001b[0m \u001b[32m━━━━━━━━━━━━━━━━━━━━\u001b[0m\u001b[37m\u001b[0m \u001b[1m1s\u001b[0m 13ms/step - loss: 207.4692 - val_loss: 187.9204\n",
            "Epoch 30/50\n",
            "\u001b[1m12/12\u001b[0m \u001b[32m━━━━━━━━━━━━━━━━━━━━\u001b[0m\u001b[37m\u001b[0m \u001b[1m0s\u001b[0m 9ms/step - loss: 166.3273 - val_loss: 178.4347\n",
            "Epoch 31/50\n",
            "\u001b[1m12/12\u001b[0m \u001b[32m━━━━━━━━━━━━━━━━━━━━\u001b[0m\u001b[37m\u001b[0m \u001b[1m0s\u001b[0m 8ms/step - loss: 164.7497 - val_loss: 170.4944\n",
            "Epoch 32/50\n",
            "\u001b[1m12/12\u001b[0m \u001b[32m━━━━━━━━━━━━━━━━━━━━\u001b[0m\u001b[37m\u001b[0m \u001b[1m0s\u001b[0m 20ms/step - loss: 162.3177 - val_loss: 161.9982\n",
            "Epoch 33/50\n",
            "\u001b[1m12/12\u001b[0m \u001b[32m━━━━━━━━━━━━━━━━━━━━\u001b[0m\u001b[37m\u001b[0m \u001b[1m0s\u001b[0m 12ms/step - loss: 152.8335 - val_loss: 154.1622\n",
            "Epoch 34/50\n",
            "\u001b[1m12/12\u001b[0m \u001b[32m━━━━━━━━━━━━━━━━━━━━\u001b[0m\u001b[37m\u001b[0m \u001b[1m0s\u001b[0m 13ms/step - loss: 155.7975 - val_loss: 144.9327\n",
            "Epoch 35/50\n",
            "\u001b[1m12/12\u001b[0m \u001b[32m━━━━━━━━━━━━━━━━━━━━\u001b[0m\u001b[37m\u001b[0m \u001b[1m0s\u001b[0m 10ms/step - loss: 131.1017 - val_loss: 138.0841\n",
            "Epoch 36/50\n",
            "\u001b[1m12/12\u001b[0m \u001b[32m━━━━━━━━━━━━━━━━━━━━\u001b[0m\u001b[37m\u001b[0m \u001b[1m0s\u001b[0m 22ms/step - loss: 133.3260 - val_loss: 131.5871\n",
            "Epoch 37/50\n",
            "\u001b[1m12/12\u001b[0m \u001b[32m━━━━━━━━━━━━━━━━━━━━\u001b[0m\u001b[37m\u001b[0m \u001b[1m0s\u001b[0m 10ms/step - loss: 121.8961 - val_loss: 123.5558\n",
            "Epoch 38/50\n",
            "\u001b[1m12/12\u001b[0m \u001b[32m━━━━━━━━━━━━━━━━━━━━\u001b[0m\u001b[37m\u001b[0m \u001b[1m0s\u001b[0m 12ms/step - loss: 124.8114 - val_loss: 117.0997\n",
            "Epoch 39/50\n",
            "\u001b[1m12/12\u001b[0m \u001b[32m━━━━━━━━━━━━━━━━━━━━\u001b[0m\u001b[37m\u001b[0m \u001b[1m0s\u001b[0m 7ms/step - loss: 110.1476 - val_loss: 109.8487\n",
            "Epoch 40/50\n",
            "\u001b[1m12/12\u001b[0m \u001b[32m━━━━━━━━━━━━━━━━━━━━\u001b[0m\u001b[37m\u001b[0m \u001b[1m0s\u001b[0m 7ms/step - loss: 117.2625 - val_loss: 104.7504\n",
            "Epoch 41/50\n",
            "\u001b[1m12/12\u001b[0m \u001b[32m━━━━━━━━━━━━━━━━━━━━\u001b[0m\u001b[37m\u001b[0m \u001b[1m0s\u001b[0m 16ms/step - loss: 100.8214 - val_loss: 99.3856\n",
            "Epoch 42/50\n",
            "\u001b[1m12/12\u001b[0m \u001b[32m━━━━━━━━━━━━━━━━━━━━\u001b[0m\u001b[37m\u001b[0m \u001b[1m0s\u001b[0m 8ms/step - loss: 104.8950 - val_loss: 94.0913\n",
            "Epoch 43/50\n",
            "\u001b[1m12/12\u001b[0m \u001b[32m━━━━━━━━━━━━━━━━━━━━\u001b[0m\u001b[37m\u001b[0m \u001b[1m0s\u001b[0m 8ms/step - loss: 99.8936 - val_loss: 87.9799\n",
            "Epoch 44/50\n",
            "\u001b[1m12/12\u001b[0m \u001b[32m━━━━━━━━━━━━━━━━━━━━\u001b[0m\u001b[37m\u001b[0m \u001b[1m0s\u001b[0m 8ms/step - loss: 83.1659 - val_loss: 83.3983\n",
            "Epoch 45/50\n",
            "\u001b[1m12/12\u001b[0m \u001b[32m━━━━━━━━━━━━━━━━━━━━\u001b[0m\u001b[37m\u001b[0m \u001b[1m0s\u001b[0m 8ms/step - loss: 78.3473 - val_loss: 80.0364\n",
            "Epoch 46/50\n",
            "\u001b[1m12/12\u001b[0m \u001b[32m━━━━━━━━━━━━━━━━━━━━\u001b[0m\u001b[37m\u001b[0m \u001b[1m0s\u001b[0m 8ms/step - loss: 89.8003 - val_loss: 77.1370\n",
            "Epoch 47/50\n",
            "\u001b[1m12/12\u001b[0m \u001b[32m━━━━━━━━━━━━━━━━━━━━\u001b[0m\u001b[37m\u001b[0m \u001b[1m0s\u001b[0m 12ms/step - loss: 71.3649 - val_loss: 72.4152\n",
            "Epoch 48/50\n",
            "\u001b[1m12/12\u001b[0m \u001b[32m━━━━━━━━━━━━━━━━━━━━\u001b[0m\u001b[37m\u001b[0m \u001b[1m0s\u001b[0m 18ms/step - loss: 65.2700 - val_loss: 68.7143\n",
            "Epoch 49/50\n",
            "\u001b[1m12/12\u001b[0m \u001b[32m━━━━━━━━━━━━━━━━━━━━\u001b[0m\u001b[37m\u001b[0m \u001b[1m0s\u001b[0m 9ms/step - loss: 66.3882 - val_loss: 67.7415\n",
            "Epoch 50/50\n",
            "\u001b[1m12/12\u001b[0m \u001b[32m━━━━━━━━━━━━━━━━━━━━\u001b[0m\u001b[37m\u001b[0m \u001b[1m0s\u001b[0m 7ms/step - loss: 63.1281 - val_loss: 65.7369\n",
            "\u001b[1m4/4\u001b[0m \u001b[32m━━━━━━━━━━━━━━━━━━━━\u001b[0m\u001b[37m\u001b[0m \u001b[1m0s\u001b[0m 3ms/step - loss: 61.0570 \n",
            "Test Loss: 58.7237\n"
          ]
        }
      ]
    },
    {
      "cell_type": "code",
      "source": [
        "parameters = {\n",
        "    'n_estimators': [100, 200, 300],\n",
        "    'max_depth': [3, 4, 5],\n",
        "    'learning_rate': [0.01, 0.1, 0.2],\n",
        "}\n",
        "grid_search = GridSearchCV(estimator = xgb_model, param_grid = parameters, cv=5, scoring='neg_mean_squared_error')"
      ],
      "metadata": {
        "id": "B9PHamyyhDEu"
      },
      "execution_count": 99,
      "outputs": []
    },
    {
      "cell_type": "code",
      "source": [
        "#Fit the grid search on the training data\n",
        "grid_search.fit(Xtrain, Ytrain)\n",
        "#Gets the best parameters\n",
        "best_params = grid_search.best_params_\n",
        "best_score = -grid_search.best_score_\n",
        "best_rmse_xgb = np.sqrt(best_score)\n",
        "print(\"Best Parameters:\", best_params)\n",
        "print(\"Best CV RMSE: %.4f\" % best_score)\n",
        "print(\"Best CV RMSE (XGB): %.4f\" % best_rmse_xgb)"
      ],
      "metadata": {
        "colab": {
          "base_uri": "https://localhost:8080/"
        },
        "id": "MrxS2om2DbBZ",
        "outputId": "3c51972a-2a72-4737-cac7-6034ea861f92"
      },
      "execution_count": 100,
      "outputs": [
        {
          "output_type": "stream",
          "name": "stdout",
          "text": [
            "Best Parameters: {'learning_rate': 0.2, 'max_depth': 4, 'n_estimators': 100}\n",
            "Best CV RMSE: 70.6879\n",
            "Best CV RMSE (XGB): 8.4076\n"
          ]
        }
      ]
    },
    {
      "cell_type": "code",
      "source": [
        "rf_param_grid = {\n",
        "    'n_estimators': [100, 200, 300],\n",
        "    'max_depth': [10, 20, 30],\n",
        "}\n",
        "rf_grid_search = GridSearchCV(estimator=rf_model, param_grid=rf_param_grid, cv=5, scoring='neg_mean_squared_error')\n",
        "rf_grid_search.fit(Xtrain, Ytrain)"
      ],
      "metadata": {
        "id": "AUnfvpPYG6il",
        "colab": {
          "base_uri": "https://localhost:8080/",
          "height": 116
        },
        "outputId": "1f0c62fc-5de6-45a5-9450-8871eb609bcb"
      },
      "execution_count": 101,
      "outputs": [
        {
          "output_type": "execute_result",
          "data": {
            "text/plain": [
              "GridSearchCV(cv=5, estimator=RandomForestRegressor(),\n",
              "             param_grid={'max_depth': [10, 20, 30],\n",
              "                         'n_estimators': [100, 200, 300]},\n",
              "             scoring='neg_mean_squared_error')"
            ],
            "text/html": [
              "<style>#sk-container-id-3 {color: black;}#sk-container-id-3 pre{padding: 0;}#sk-container-id-3 div.sk-toggleable {background-color: white;}#sk-container-id-3 label.sk-toggleable__label {cursor: pointer;display: block;width: 100%;margin-bottom: 0;padding: 0.3em;box-sizing: border-box;text-align: center;}#sk-container-id-3 label.sk-toggleable__label-arrow:before {content: \"▸\";float: left;margin-right: 0.25em;color: #696969;}#sk-container-id-3 label.sk-toggleable__label-arrow:hover:before {color: black;}#sk-container-id-3 div.sk-estimator:hover label.sk-toggleable__label-arrow:before {color: black;}#sk-container-id-3 div.sk-toggleable__content {max-height: 0;max-width: 0;overflow: hidden;text-align: left;background-color: #f0f8ff;}#sk-container-id-3 div.sk-toggleable__content pre {margin: 0.2em;color: black;border-radius: 0.25em;background-color: #f0f8ff;}#sk-container-id-3 input.sk-toggleable__control:checked~div.sk-toggleable__content {max-height: 200px;max-width: 100%;overflow: auto;}#sk-container-id-3 input.sk-toggleable__control:checked~label.sk-toggleable__label-arrow:before {content: \"▾\";}#sk-container-id-3 div.sk-estimator input.sk-toggleable__control:checked~label.sk-toggleable__label {background-color: #d4ebff;}#sk-container-id-3 div.sk-label input.sk-toggleable__control:checked~label.sk-toggleable__label {background-color: #d4ebff;}#sk-container-id-3 input.sk-hidden--visually {border: 0;clip: rect(1px 1px 1px 1px);clip: rect(1px, 1px, 1px, 1px);height: 1px;margin: -1px;overflow: hidden;padding: 0;position: absolute;width: 1px;}#sk-container-id-3 div.sk-estimator {font-family: monospace;background-color: #f0f8ff;border: 1px dotted black;border-radius: 0.25em;box-sizing: border-box;margin-bottom: 0.5em;}#sk-container-id-3 div.sk-estimator:hover {background-color: #d4ebff;}#sk-container-id-3 div.sk-parallel-item::after {content: \"\";width: 100%;border-bottom: 1px solid gray;flex-grow: 1;}#sk-container-id-3 div.sk-label:hover label.sk-toggleable__label {background-color: #d4ebff;}#sk-container-id-3 div.sk-serial::before {content: \"\";position: absolute;border-left: 1px solid gray;box-sizing: border-box;top: 0;bottom: 0;left: 50%;z-index: 0;}#sk-container-id-3 div.sk-serial {display: flex;flex-direction: column;align-items: center;background-color: white;padding-right: 0.2em;padding-left: 0.2em;position: relative;}#sk-container-id-3 div.sk-item {position: relative;z-index: 1;}#sk-container-id-3 div.sk-parallel {display: flex;align-items: stretch;justify-content: center;background-color: white;position: relative;}#sk-container-id-3 div.sk-item::before, #sk-container-id-3 div.sk-parallel-item::before {content: \"\";position: absolute;border-left: 1px solid gray;box-sizing: border-box;top: 0;bottom: 0;left: 50%;z-index: -1;}#sk-container-id-3 div.sk-parallel-item {display: flex;flex-direction: column;z-index: 1;position: relative;background-color: white;}#sk-container-id-3 div.sk-parallel-item:first-child::after {align-self: flex-end;width: 50%;}#sk-container-id-3 div.sk-parallel-item:last-child::after {align-self: flex-start;width: 50%;}#sk-container-id-3 div.sk-parallel-item:only-child::after {width: 0;}#sk-container-id-3 div.sk-dashed-wrapped {border: 1px dashed gray;margin: 0 0.4em 0.5em 0.4em;box-sizing: border-box;padding-bottom: 0.4em;background-color: white;}#sk-container-id-3 div.sk-label label {font-family: monospace;font-weight: bold;display: inline-block;line-height: 1.2em;}#sk-container-id-3 div.sk-label-container {text-align: center;}#sk-container-id-3 div.sk-container {/* jupyter's `normalize.less` sets `[hidden] { display: none; }` but bootstrap.min.css set `[hidden] { display: none !important; }` so we also need the `!important` here to be able to override the default hidden behavior on the sphinx rendered scikit-learn.org. See: https://github.com/scikit-learn/scikit-learn/issues/21755 */display: inline-block !important;position: relative;}#sk-container-id-3 div.sk-text-repr-fallback {display: none;}</style><div id=\"sk-container-id-3\" class=\"sk-top-container\"><div class=\"sk-text-repr-fallback\"><pre>GridSearchCV(cv=5, estimator=RandomForestRegressor(),\n",
              "             param_grid={&#x27;max_depth&#x27;: [10, 20, 30],\n",
              "                         &#x27;n_estimators&#x27;: [100, 200, 300]},\n",
              "             scoring=&#x27;neg_mean_squared_error&#x27;)</pre><b>In a Jupyter environment, please rerun this cell to show the HTML representation or trust the notebook. <br />On GitHub, the HTML representation is unable to render, please try loading this page with nbviewer.org.</b></div><div class=\"sk-container\" hidden><div class=\"sk-item sk-dashed-wrapped\"><div class=\"sk-label-container\"><div class=\"sk-label sk-toggleable\"><input class=\"sk-toggleable__control sk-hidden--visually\" id=\"sk-estimator-id-7\" type=\"checkbox\" ><label for=\"sk-estimator-id-7\" class=\"sk-toggleable__label sk-toggleable__label-arrow\">GridSearchCV</label><div class=\"sk-toggleable__content\"><pre>GridSearchCV(cv=5, estimator=RandomForestRegressor(),\n",
              "             param_grid={&#x27;max_depth&#x27;: [10, 20, 30],\n",
              "                         &#x27;n_estimators&#x27;: [100, 200, 300]},\n",
              "             scoring=&#x27;neg_mean_squared_error&#x27;)</pre></div></div></div><div class=\"sk-parallel\"><div class=\"sk-parallel-item\"><div class=\"sk-item\"><div class=\"sk-label-container\"><div class=\"sk-label sk-toggleable\"><input class=\"sk-toggleable__control sk-hidden--visually\" id=\"sk-estimator-id-8\" type=\"checkbox\" ><label for=\"sk-estimator-id-8\" class=\"sk-toggleable__label sk-toggleable__label-arrow\">estimator: RandomForestRegressor</label><div class=\"sk-toggleable__content\"><pre>RandomForestRegressor()</pre></div></div></div><div class=\"sk-serial\"><div class=\"sk-item\"><div class=\"sk-estimator sk-toggleable\"><input class=\"sk-toggleable__control sk-hidden--visually\" id=\"sk-estimator-id-9\" type=\"checkbox\" ><label for=\"sk-estimator-id-9\" class=\"sk-toggleable__label sk-toggleable__label-arrow\">RandomForestRegressor</label><div class=\"sk-toggleable__content\"><pre>RandomForestRegressor()</pre></div></div></div></div></div></div></div></div></div></div>"
            ]
          },
          "metadata": {},
          "execution_count": 101
        }
      ]
    },
    {
      "cell_type": "code",
      "source": [
        "#Gets the best parameters\n",
        "best_params = rf_grid_search.best_params_\n",
        "best_score = -rf_grid_search.best_score_\n",
        "best_rmse_rf = np.sqrt(best_score)\n",
        "print(\"Best Parameters:\", best_params)\n",
        "print(\"Best CV RMSE: %.4f\" % best_score)\n",
        "print(\"Best CV RMSE (Random Forest): %.4f\" % best_rmse_rf)"
      ],
      "metadata": {
        "colab": {
          "base_uri": "https://localhost:8080/"
        },
        "id": "YWsstx6GNYH4",
        "outputId": "5e3bf9ee-7a48-41e7-e6d6-cde768f68068"
      },
      "execution_count": 102,
      "outputs": [
        {
          "output_type": "stream",
          "name": "stdout",
          "text": [
            "Best Parameters: {'max_depth': 30, 'n_estimators': 100}\n",
            "Best CV RMSE: 73.9314\n",
            "Best CV RMSE (Random Forest): 8.5983\n"
          ]
        }
      ]
    },
    {
      "cell_type": "code",
      "source": [
        "gdr_param_grid = {\n",
        "    'n_estimators': [100, 200, 300],\n",
        "    'learning_rate': [0.01, 0.1, 0.2],\n",
        "    'max_depth': [3, 5, 7],\n",
        "}\n",
        "gdr_grid_search = GridSearchCV(estimator=gdr_model, param_grid=gdr_param_grid, cv=5, scoring='neg_mean_squared_error')\n",
        "gdr_grid_search.fit(Xtrain, Ytrain)"
      ],
      "metadata": {
        "colab": {
          "base_uri": "https://localhost:8080/",
          "height": 116
        },
        "id": "cDL4ykfykL5j",
        "outputId": "72165912-f6de-44ec-cbbd-74f80c3e4fc9"
      },
      "execution_count": 103,
      "outputs": [
        {
          "output_type": "execute_result",
          "data": {
            "text/plain": [
              "GridSearchCV(cv=5, estimator=GradientBoostingRegressor(),\n",
              "             param_grid={'learning_rate': [0.01, 0.1, 0.2],\n",
              "                         'max_depth': [3, 5, 7],\n",
              "                         'n_estimators': [100, 200, 300]},\n",
              "             scoring='neg_mean_squared_error')"
            ],
            "text/html": [
              "<style>#sk-container-id-4 {color: black;}#sk-container-id-4 pre{padding: 0;}#sk-container-id-4 div.sk-toggleable {background-color: white;}#sk-container-id-4 label.sk-toggleable__label {cursor: pointer;display: block;width: 100%;margin-bottom: 0;padding: 0.3em;box-sizing: border-box;text-align: center;}#sk-container-id-4 label.sk-toggleable__label-arrow:before {content: \"▸\";float: left;margin-right: 0.25em;color: #696969;}#sk-container-id-4 label.sk-toggleable__label-arrow:hover:before {color: black;}#sk-container-id-4 div.sk-estimator:hover label.sk-toggleable__label-arrow:before {color: black;}#sk-container-id-4 div.sk-toggleable__content {max-height: 0;max-width: 0;overflow: hidden;text-align: left;background-color: #f0f8ff;}#sk-container-id-4 div.sk-toggleable__content pre {margin: 0.2em;color: black;border-radius: 0.25em;background-color: #f0f8ff;}#sk-container-id-4 input.sk-toggleable__control:checked~div.sk-toggleable__content {max-height: 200px;max-width: 100%;overflow: auto;}#sk-container-id-4 input.sk-toggleable__control:checked~label.sk-toggleable__label-arrow:before {content: \"▾\";}#sk-container-id-4 div.sk-estimator input.sk-toggleable__control:checked~label.sk-toggleable__label {background-color: #d4ebff;}#sk-container-id-4 div.sk-label input.sk-toggleable__control:checked~label.sk-toggleable__label {background-color: #d4ebff;}#sk-container-id-4 input.sk-hidden--visually {border: 0;clip: rect(1px 1px 1px 1px);clip: rect(1px, 1px, 1px, 1px);height: 1px;margin: -1px;overflow: hidden;padding: 0;position: absolute;width: 1px;}#sk-container-id-4 div.sk-estimator {font-family: monospace;background-color: #f0f8ff;border: 1px dotted black;border-radius: 0.25em;box-sizing: border-box;margin-bottom: 0.5em;}#sk-container-id-4 div.sk-estimator:hover {background-color: #d4ebff;}#sk-container-id-4 div.sk-parallel-item::after {content: \"\";width: 100%;border-bottom: 1px solid gray;flex-grow: 1;}#sk-container-id-4 div.sk-label:hover label.sk-toggleable__label {background-color: #d4ebff;}#sk-container-id-4 div.sk-serial::before {content: \"\";position: absolute;border-left: 1px solid gray;box-sizing: border-box;top: 0;bottom: 0;left: 50%;z-index: 0;}#sk-container-id-4 div.sk-serial {display: flex;flex-direction: column;align-items: center;background-color: white;padding-right: 0.2em;padding-left: 0.2em;position: relative;}#sk-container-id-4 div.sk-item {position: relative;z-index: 1;}#sk-container-id-4 div.sk-parallel {display: flex;align-items: stretch;justify-content: center;background-color: white;position: relative;}#sk-container-id-4 div.sk-item::before, #sk-container-id-4 div.sk-parallel-item::before {content: \"\";position: absolute;border-left: 1px solid gray;box-sizing: border-box;top: 0;bottom: 0;left: 50%;z-index: -1;}#sk-container-id-4 div.sk-parallel-item {display: flex;flex-direction: column;z-index: 1;position: relative;background-color: white;}#sk-container-id-4 div.sk-parallel-item:first-child::after {align-self: flex-end;width: 50%;}#sk-container-id-4 div.sk-parallel-item:last-child::after {align-self: flex-start;width: 50%;}#sk-container-id-4 div.sk-parallel-item:only-child::after {width: 0;}#sk-container-id-4 div.sk-dashed-wrapped {border: 1px dashed gray;margin: 0 0.4em 0.5em 0.4em;box-sizing: border-box;padding-bottom: 0.4em;background-color: white;}#sk-container-id-4 div.sk-label label {font-family: monospace;font-weight: bold;display: inline-block;line-height: 1.2em;}#sk-container-id-4 div.sk-label-container {text-align: center;}#sk-container-id-4 div.sk-container {/* jupyter's `normalize.less` sets `[hidden] { display: none; }` but bootstrap.min.css set `[hidden] { display: none !important; }` so we also need the `!important` here to be able to override the default hidden behavior on the sphinx rendered scikit-learn.org. See: https://github.com/scikit-learn/scikit-learn/issues/21755 */display: inline-block !important;position: relative;}#sk-container-id-4 div.sk-text-repr-fallback {display: none;}</style><div id=\"sk-container-id-4\" class=\"sk-top-container\"><div class=\"sk-text-repr-fallback\"><pre>GridSearchCV(cv=5, estimator=GradientBoostingRegressor(),\n",
              "             param_grid={&#x27;learning_rate&#x27;: [0.01, 0.1, 0.2],\n",
              "                         &#x27;max_depth&#x27;: [3, 5, 7],\n",
              "                         &#x27;n_estimators&#x27;: [100, 200, 300]},\n",
              "             scoring=&#x27;neg_mean_squared_error&#x27;)</pre><b>In a Jupyter environment, please rerun this cell to show the HTML representation or trust the notebook. <br />On GitHub, the HTML representation is unable to render, please try loading this page with nbviewer.org.</b></div><div class=\"sk-container\" hidden><div class=\"sk-item sk-dashed-wrapped\"><div class=\"sk-label-container\"><div class=\"sk-label sk-toggleable\"><input class=\"sk-toggleable__control sk-hidden--visually\" id=\"sk-estimator-id-10\" type=\"checkbox\" ><label for=\"sk-estimator-id-10\" class=\"sk-toggleable__label sk-toggleable__label-arrow\">GridSearchCV</label><div class=\"sk-toggleable__content\"><pre>GridSearchCV(cv=5, estimator=GradientBoostingRegressor(),\n",
              "             param_grid={&#x27;learning_rate&#x27;: [0.01, 0.1, 0.2],\n",
              "                         &#x27;max_depth&#x27;: [3, 5, 7],\n",
              "                         &#x27;n_estimators&#x27;: [100, 200, 300]},\n",
              "             scoring=&#x27;neg_mean_squared_error&#x27;)</pre></div></div></div><div class=\"sk-parallel\"><div class=\"sk-parallel-item\"><div class=\"sk-item\"><div class=\"sk-label-container\"><div class=\"sk-label sk-toggleable\"><input class=\"sk-toggleable__control sk-hidden--visually\" id=\"sk-estimator-id-11\" type=\"checkbox\" ><label for=\"sk-estimator-id-11\" class=\"sk-toggleable__label sk-toggleable__label-arrow\">estimator: GradientBoostingRegressor</label><div class=\"sk-toggleable__content\"><pre>GradientBoostingRegressor()</pre></div></div></div><div class=\"sk-serial\"><div class=\"sk-item\"><div class=\"sk-estimator sk-toggleable\"><input class=\"sk-toggleable__control sk-hidden--visually\" id=\"sk-estimator-id-12\" type=\"checkbox\" ><label for=\"sk-estimator-id-12\" class=\"sk-toggleable__label sk-toggleable__label-arrow\">GradientBoostingRegressor</label><div class=\"sk-toggleable__content\"><pre>GradientBoostingRegressor()</pre></div></div></div></div></div></div></div></div></div></div>"
            ]
          },
          "metadata": {},
          "execution_count": 103
        }
      ]
    },
    {
      "cell_type": "code",
      "source": [
        "best_params = gdr_grid_search.best_params_\n",
        "best_score = -gdr_grid_search.best_score_\n",
        "best_rmse_gdr = np.sqrt(best_score)\n",
        "print(\"Best Parameters:\", best_params)\n",
        "print(\"Best CV RMSE: %.4f\" % best_score)\n",
        "print(\"Gradient Boosting Best CV RMSE: %.4f\" % best_rmse_gdr)"
      ],
      "metadata": {
        "colab": {
          "base_uri": "https://localhost:8080/"
        },
        "id": "PPJzRIdOk8Ky",
        "outputId": "9c218160-b0e0-4997-fc5c-afd887f02c05"
      },
      "execution_count": 104,
      "outputs": [
        {
          "output_type": "stream",
          "name": "stdout",
          "text": [
            "Best Parameters: {'learning_rate': 0.1, 'max_depth': 3, 'n_estimators': 200}\n",
            "Best CV RMSE: 69.6317\n",
            "Gradient Boosting Best CV RMSE: 8.3446\n"
          ]
        }
      ]
    },
    {
      "cell_type": "code",
      "source": [
        "#After looking at the Mean Squared Error and RMSE from grid search, gradient boosting appeared to be the best model\n",
        "#It had the lowest Mean Squared Error and the lowest RMSE amongst the grid search"
      ],
      "metadata": {
        "id": "_J7t-QLNZjmC"
      },
      "execution_count": null,
      "outputs": []
    },
    {
      "cell_type": "markdown",
      "source": [
        "##Testing the trained model with input features from another dataset"
      ],
      "metadata": {
        "id": "SaCfDWNpDvBa"
      }
    },
    {
      "cell_type": "code",
      "source": [
        "test_data = pd.read_csv('/content/drive/MyDrive/merged_gwtest.csv')"
      ],
      "metadata": {
        "id": "KjjF23BzIaYt"
      },
      "execution_count": 105,
      "outputs": []
    },
    {
      "cell_type": "code",
      "source": [
        "numeric_data_test = test_data.select_dtypes(include=['int64', 'float64'])\n",
        "numeric_data_test_imputer = SimpleImputer(strategy='mean')\n",
        "numeric_data_test_filled = numeric_data_test_imputer.fit_transform(numeric_data_test)\n",
        "numeric_data_test_df = pd.DataFrame(numeric_data_test_filled, columns=numeric_data_test.columns)"
      ],
      "metadata": {
        "id": "uHcVRkFIJuOL"
      },
      "execution_count": 106,
      "outputs": []
    },
    {
      "cell_type": "code",
      "source": [
        "categorical_data_test = test_data.select_dtypes(include=['object'])\n",
        "categorical_data_test_imputer = SimpleImputer(strategy='most_frequent')\n",
        "categorical_data_test_filled = categorical_data_test_imputer.fit_transform(categorical_data_test)\n",
        "encoder = OrdinalEncoder()\n",
        "categorical_data_test_encoded = encoder.fit_transform(categorical_data_test_filled)\n",
        "categorical_data_test_df = pd.DataFrame(categorical_data_test_encoded, columns=categorical_data_test.columns)"
      ],
      "metadata": {
        "id": "mcQyzA1NJubV"
      },
      "execution_count": 107,
      "outputs": []
    },
    {
      "cell_type": "code",
      "source": [
        "test_data = pd.concat([numeric_data_test_df, categorical_data_test_df], axis=1)"
      ],
      "metadata": {
        "id": "0Ou1gF3WJunn"
      },
      "execution_count": 108,
      "outputs": []
    },
    {
      "cell_type": "code",
      "source": [
        "test_features = test_data[['bps','minutes', 'assists', 'goals_conceded', 'goals_scored']]\n",
        "test_x = test_features\n",
        "test_x = scaler.transform(test_x)\n",
        "test_y = test_data['total_points']"
      ],
      "metadata": {
        "id": "joxl-8qZJuzw"
      },
      "execution_count": 109,
      "outputs": []
    },
    {
      "cell_type": "code",
      "source": [
        "Xtrain1,Xtest1,Ytrain1,Ytest1 = train_test_split(test_x,test_y,test_size=0.2, random_state=42)"
      ],
      "metadata": {
        "id": "jDaLJ6zWJvnC"
      },
      "execution_count": 110,
      "outputs": []
    },
    {
      "cell_type": "code",
      "source": [
        "gdr_model.fit(Xtrain1, Ytrain1)\n",
        "test_ypred = gdr_model.predict(Xtest1)\n",
        "print(f\"\"\"\n",
        "Mean Absolute Error = {mean_absolute_error(test_ypred,Ytest1)},\n",
        "Mean Squared Error = {mean_squared_error(test_ypred,Ytest1)},\n",
        "Root Mean Squared Error = {np.sqrt(mean_squared_error(test_ypred,Ytest1))},\n",
        "R2 Score = {r2_score(test_ypred,Ytest1)}\n",
        "          \"\"\")\n"
      ],
      "metadata": {
        "colab": {
          "base_uri": "https://localhost:8080/"
        },
        "id": "zZL327K0ZIPe",
        "outputId": "88b70a57-6f50-49ad-ecb7-ce2c481ba860"
      },
      "execution_count": 116,
      "outputs": [
        {
          "output_type": "stream",
          "name": "stdout",
          "text": [
            "\n",
            "Mean Absolute Error = 0.21484348328564296,\n",
            "Mean Squared Error = 0.250591047616373,\n",
            "Root Mean Squared Error = 0.5005906986914289,\n",
            "R2 Score = 0.9496550497948436\n",
            "          \n"
          ]
        }
      ]
    },
    {
      "cell_type": "code",
      "source": [
        "#A score of 0.9497 means that the random forest model fits the test data very well"
      ],
      "metadata": {
        "id": "WzonX1DgGXpq"
      },
      "execution_count": 112,
      "outputs": []
    },
    {
      "cell_type": "code",
      "source": [
        "plt.scatter(Ytest1, test_ypred)\n",
        "plt.xlabel('Actual Values')\n",
        "plt.ylabel('Predicted Values')\n",
        "plt.title('Actual vs. Predicted Values')\n",
        "plt.show()"
      ],
      "metadata": {
        "colab": {
          "base_uri": "https://localhost:8080/",
          "height": 472
        },
        "id": "SxhaYnPtRi9G",
        "outputId": "58d10664-6255-4310-e302-673957bf69ce"
      },
      "execution_count": 113,
      "outputs": [
        {
          "output_type": "display_data",
          "data": {
            "text/plain": [
              "<Figure size 640x480 with 1 Axes>"
            ],
            "image/png": "[encoded data removed]"
          },
          "metadata": {}
        }
      ]
    },
    {
      "cell_type": "code",
      "source": [
        "# Save the model\n",
        "with open('rf_model.pkl', 'wb') as model_file:\n",
        "    pickle.dump(rf_model, model_file)"
      ],
      "metadata": {
        "id": "VtuaXFJabK-L"
      },
      "execution_count": 114,
      "outputs": []
    },
    {
      "cell_type": "code",
      "source": [
        "# Save the model\n",
        "with open('gdr_model.pkl', 'wb') as model_file:\n",
        "    pickle.dump(gdr_model, model_file)"
      ],
      "metadata": {
        "id": "8rF7B92PY_C_"
      },
      "execution_count": 117,
      "outputs": []
    },
    {
      "cell_type": "code",
      "source": [],
      "metadata": {
        "id": "QzAWzeqqZTnS"
      },
      "execution_count": null,
      "outputs": []
    }
  ],
  "metadata": {
    "colab": {
      "provenance": []
    },
    "kernelspec": {
      "display_name": "Python 3",
      "name": "python3"
    },
    "language_info": {
      "name": "python"
    }
  },
  "nbformat": 4,
  "nbformat_minor": 0
}